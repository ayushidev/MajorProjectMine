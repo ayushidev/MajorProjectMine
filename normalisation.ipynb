from sklearn import preprocessing
min_max_scaler = preprocessing.MinMaxScaler()
np_scaled = min_max_scaler.fit_transform(df.drop(['essay','essay_id','essay_set'],axis=1))
df_normalized = pd.DataFrame(np_scaled, columns = ['domain1_score','word_count','sentence_count','avg_word_len','num_exclamation_marks','num_question_marks','num_stopwords','noun_count','verb_count','foreign_count','adj_count','conj_count','adv_count','sentiment_essay'])
df_normalized.head(5)
